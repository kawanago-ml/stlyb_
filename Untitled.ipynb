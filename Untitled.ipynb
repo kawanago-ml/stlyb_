{
 "cells": [
  {
   "cell_type": "code",
   "execution_count": 1,
   "id": "a52ac26b-a5ff-490e-938f-71b9e23a808b",
   "metadata": {},
   "outputs": [],
   "source": [
    "import pandas as pd\n",
    "import seaborn as sns\n",
    "import matplotlib.pyplot as plt\n",
    "import numpy as np\n",
    "import unicodedata\n",
    "from pathlib import Path\n",
    "from natsort import natsorted\n",
    "from pathlib import Path\n",
    "from matplotlib.gridspec import GridSpec, GridSpecFromSubplotSpec\n",
    "from sklearn.preprocessing import StandardScaler, LabelEncoder, RobustScaler"
   ]
  },
  {
   "cell_type": "markdown",
   "id": "bbc5caf4-72de-4413-a088-41071a305560",
   "metadata": {
    "tags": []
   },
   "source": [
    "## 処理の流れ"
   ]
  },
  {
   "cell_type": "markdown",
   "id": "98b7ae15-bb72-41d9-a41f-bbed1e006ffd",
   "metadata": {},
   "source": [
    "１，データの読み込みと結合  \n",
    "・使用するデータを読み込む  \n",
    "・重複するIDで結合"
   ]
  },
  {
   "cell_type": "markdown",
   "id": "63ff9439-c33e-4594-ab21-79616e5f73bf",
   "metadata": {},
   "source": [
    "２，前処理  \n",
    "・元から数値の列は標準化(オプション作る？)  \n",
    "・オブジェクト型の列はラベルエンコード"
   ]
  },
  {
   "cell_type": "markdown",
   "id": "5e5e89a3-fbc9-49a9-bcb4-bf1902376949",
   "metadata": {},
   "source": [
    "３，ヒートマップの描画  \n",
    "・描画に使用しない列を選択(Patient_id)  \n",
    "・"
   ]
  },
  {
   "cell_type": "markdown",
   "id": "6134b011-6dbd-48a8-92b1-c36492e1b4d8",
   "metadata": {},
   "source": [
    "## 課題点"
   ]
  },
  {
   "cell_type": "code",
   "execution_count": null,
   "id": "9476043f-9c69-4103-beec-d6e0285e763f",
   "metadata": {},
   "outputs": [],
   "source": []
  },
  {
   "cell_type": "markdown",
   "id": "933d10a5-4693-4dd0-b912-82c467c1fd7d",
   "metadata": {
    "tags": []
   },
   "source": [
    "## データ読み込み、結合"
   ]
  },
  {
   "cell_type": "code",
   "execution_count": 2,
   "id": "d5a77429-a066-4ff0-a85e-c7ef63b77c19",
   "metadata": {},
   "outputs": [],
   "source": [
    "exp_path = \"./trandeseq.xlsx\"\n",
    "cln_path = \"./clinical.xlsx\""
   ]
  },
  {
   "cell_type": "code",
   "execution_count": 3,
   "id": "b3aa696d-755c-4c54-8c82-07ae88c74c2c",
   "metadata": {},
   "outputs": [],
   "source": [
    "#データ読み込み\n",
    "exp_df = pd.read_excel(exp_path)\n",
    "cln_df = pd.read_excel(cln_path)"
   ]
  },
  {
   "cell_type": "code",
   "execution_count": 97,
   "id": "12e47593-f85f-4d53-b32c-c8fd881a0cfb",
   "metadata": {},
   "outputs": [],
   "source": [
    "#データの結合\n",
    "merged = cln_df.merge(exp_df)"
   ]
  },
  {
   "cell_type": "code",
   "execution_count": null,
   "id": "af482187-69a2-4a91-9155-4bcbf1bbe6a2",
   "metadata": {},
   "outputs": [],
   "source": []
  },
  {
   "cell_type": "markdown",
   "id": "217c92f5-5aee-489b-a275-2e8f9bb178a1",
   "metadata": {
    "tags": []
   },
   "source": [
    "## データフレーム、カラム操作"
   ]
  },
  {
   "cell_type": "code",
   "execution_count": 365,
   "id": "6d8138c6-ba3f-4212-980e-77940db95fc8",
   "metadata": {},
   "outputs": [],
   "source": [
    "#logを取ったら外れ値もどうにか表示できる？\n",
    "#for c in main_plot:\n",
    "#    merged[c] = merged[c].map(lambda x: np.log(x))"
   ]
  },
  {
   "cell_type": "code",
   "execution_count": 98,
   "id": "a4aec76c-f74b-4f59-a1e3-54bea7f0db76",
   "metadata": {},
   "outputs": [],
   "source": [
    "sample_id = None   #user_setting"
   ]
  },
  {
   "cell_type": "code",
   "execution_count": 99,
   "id": "8c3a8f21-b7c3-4518-8eed-2868c67e3485",
   "metadata": {},
   "outputs": [],
   "source": [
    "#描画しない列(指定が無ければ最初のカラム)\n",
    "#sample_id = [\"Patient_id\"]\n",
    "if sample_id == None: sample_id = [merged.columns[0]]"
   ]
  },
  {
   "cell_type": "code",
   "execution_count": 100,
   "id": "c7660699-104e-4c53-9d8c-61de96ed4efa",
   "metadata": {},
   "outputs": [],
   "source": [
    "#main_plotカラムに共通する文字列\n",
    "main_col_word = \"eRNA\"   #user_setting\n",
    "#main_plotカラム\n",
    "main_plot = [col for col in merged.columns if word in col]\n",
    "#sub_plotカラム\n",
    "sub_plot = list(merged.drop(sample_id + main_plot, axis=1).columns)"
   ]
  },
  {
   "cell_type": "code",
   "execution_count": 101,
   "id": "d1a81c99-205a-4bd6-9a16-5caf48b1e0c3",
   "metadata": {},
   "outputs": [],
   "source": [
    "#sub_plotの列と順番を指定可能   #user_setting\n",
    "sub_plot_order = ['Cluster', 'TNM_T', 'TNM_N', 'TNM_M', 'STAGE', 'Driver mutation', 'Gender', 'Smoking_history', 'Norecurrence0',  'ALIVE0_DEATH1', 'Grade']\n",
    "\n",
    "#指定がない場合はID列とmain_plot以外の列をオリジナル順のまま使用\n",
    "if sub_plot_order == None: sub_plot = list(merged.drop(no_plot + main_plot, axis=1).columns)\n",
    "else: sub_plot = sub_plot_order"
   ]
  },
  {
   "cell_type": "code",
   "execution_count": 102,
   "id": "f1fd670c-b036-4b98-aa36-e446541cb549",
   "metadata": {},
   "outputs": [],
   "source": [
    "#figure内の分割線(vlines)の基準になるカラム(指定が無ければsub_plotの先頭カラム)\n",
    "cluster_col = \"Cluster\"   #user_setting\n",
    "if cluster_col == None: cluster_col = sub_plot[0]"
   ]
  },
  {
   "cell_type": "code",
   "execution_count": 103,
   "id": "33d83957-4de0-40c5-9080-9c2f1b856b45",
   "metadata": {},
   "outputs": [],
   "source": [
    "sort_col = None"
   ]
  },
  {
   "cell_type": "code",
   "execution_count": 104,
   "id": "377a3d31-cd53-4f9c-8449-2b47f1e3caca",
   "metadata": {},
   "outputs": [],
   "source": [
    "#sortしたい列を指定可能(sortすると描画に影響)\n",
    "#sort_col = ['Cluster', 'TNM_T', 'TNM_N', 'TNM_M', 'STAGE', 'Driver mutation', 'Gender', 'Smoking_history', 'Norecurrence0',  'ALIVE0_DEATH1', 'Grade']\n",
    "\n",
    "#データフレームカラムの並べ替え\n",
    "#指定がない場合は分割線の基準になる列だけでsort\n",
    "merged = merged[sample_id+sub_plot+main_plot]\n",
    "if sort_col == None: merged.sort_values(cluster_col, ignore_index=True, inplace=True)\n",
    "else: merged.sort_values(sort_col, ignore_index=True, inplace=True)"
   ]
  },
  {
   "cell_type": "markdown",
   "id": "ef42f56f-37f9-4e15-b3da-91ba5cfadbf4",
   "metadata": {},
   "source": [
    "## 前処理、エンコード"
   ]
  },
  {
   "cell_type": "code",
   "execution_count": 105,
   "id": "d62cf7b5-78f9-4086-bab8-9a994b7c5afd",
   "metadata": {},
   "outputs": [],
   "source": [
    "#全角表記を半角表記に変換する関数\n",
    "def unic_norm(string):\n",
    "    if str(string) != \"nan\": return unicodedata.normalize('NFKC', str(string))\n",
    "    else: return string"
   ]
  },
  {
   "cell_type": "code",
   "execution_count": 106,
   "id": "7cf5e4a2-8bc0-4468-b4df-061fc70d5dc5",
   "metadata": {},
   "outputs": [],
   "source": [
    "#全角表記を半角表記に変換\n",
    "merged[\"STAGE\"] = merged[\"STAGE\"].map(unic_norm)"
   ]
  },
  {
   "cell_type": "code",
   "execution_count": 107,
   "id": "156f4d35-648f-49a4-8f8c-40453f15384a",
   "metadata": {},
   "outputs": [],
   "source": [
    "threshold = None\n",
    "thd_col = None"
   ]
  },
  {
   "cell_type": "code",
   "execution_count": 109,
   "id": "53079b7a-7d45-47d4-abf1-875e331738dc",
   "metadata": {},
   "outputs": [],
   "source": [
    "#閾値処理したい列と基準値(>threshold)を指定\n",
    "threshold = [65]\n",
    "thd_col = [\"Grade\"]\n",
    "\n",
    "if thd_col != None:\n",
    "    #複数の列が指定されても対応できるようにリスト化\n",
    "    if type(thd_col) != list: thd_col = [thd_col]\n",
    "    if type(threshold) != list: threshold = [threshold]\n",
    "    for c, t in zip(thd_col, threshold):\n",
    "        merged[c] = merged[c].map(lambda x: f\">{t}\" if int(x) > t else f\"<={t}\")"
   ]
  },
  {
   "cell_type": "code",
   "execution_count": 112,
   "id": "28a28213-f82b-4380-85f9-f560aa2dce17",
   "metadata": {},
   "outputs": [],
   "source": [
    "#閾値処理したい列と基準値(>threshold)を指定\n",
    "missing_value = [\"-\"]\n",
    "fillna_col = [\"Smoking_history\"]\n",
    "\n",
    "if fillna_col != None:\n",
    "    #複数の列が指定されても対応できるようにリスト化\n",
    "    if type(fillna_col) != list: fillna_col = [fillna_col]\n",
    "    if type(missing_value) != list: missing_value = [missing_value]\n",
    "    for c, v in zip(fillna_col, missing_value):\n",
    "        merged[c] = merged[c].map(lambda x: None if x==v else x)"
   ]
  },
  {
   "cell_type": "code",
   "execution_count": 15,
   "id": "ce40ee8d-b169-4a85-85ce-4eab2afb084e",
   "metadata": {},
   "outputs": [],
   "source": [
    "#欠損値を伴うラベルエンコード用の関数\n",
    "def label_encode(df, cols):\n",
    "    \n",
    "    le_dic = {}\n",
    "    for col in cols:\n",
    "        le = LabelEncoder()\n",
    "        not_null = df[col][df[col].notnull()]\n",
    "        df[col] = pd.Series(le.fit_transform(not_null), index=not_null.index)\n",
    "        le_dic[col] = le\n",
    "    \n",
    "    return df, le_dic"
   ]
  },
  {
   "cell_type": "code",
   "execution_count": 16,
   "id": "202605d5-8e19-4ad8-9322-7cdb170905bf",
   "metadata": {},
   "outputs": [],
   "source": [
    "ctg_col = None"
   ]
  },
  {
   "cell_type": "code",
   "execution_count": 17,
   "id": "1e0212d3-f432-45d8-8643-e5b43547c2ff",
   "metadata": {},
   "outputs": [],
   "source": [
    "#ラベルエンコードする列\n",
    "#ctg_col = ['TNM_T', 'TNM_N', 'TNM_M', 'STAGE', 'Driver mutation', 'Gender', 'Smoking_history', 'Grade']\n",
    "#指定がない場合はobject形の列\n",
    "if ctg_col == None: ctg_col = merged.columns[merged.dtypes == \"object\"]"
   ]
  },
  {
   "cell_type": "code",
   "execution_count": 18,
   "id": "b2dd6be7-d9fd-4b39-9360-e92ba873ea41",
   "metadata": {},
   "outputs": [],
   "source": [
    "#欠損値を考慮してラベルエンコード(同時にエンコーダーのリストも取得)\n",
    "merged, le_dic = label_encode(merged, ctg_col)\n",
    "#のちに使用するマスクデータフレーム\n",
    "sub_mask = merged[sub_plot].isnull()"
   ]
  },
  {
   "cell_type": "code",
   "execution_count": 19,
   "id": "4e90fc61-e211-42cf-ad00-fc63d232f43a",
   "metadata": {},
   "outputs": [],
   "source": [
    "#欠損値を0に置き換え\n",
    "for col in sub_plot:\n",
    "    merged.loc[:, col] = merged.loc[:, col].fillna(0)\n",
    "\n",
    "#int型へ変換\n",
    "merged[sub_plot] = merged[sub_plot].astype(\"int64\")"
   ]
  },
  {
   "cell_type": "code",
   "execution_count": 20,
   "id": "4a9be430-4cd5-48d6-932a-b37fb32d5850",
   "metadata": {},
   "outputs": [],
   "source": [
    "main_scale = False   #user_setting"
   ]
  },
  {
   "cell_type": "code",
   "execution_count": 21,
   "id": "0787e9de-4531-4de1-8f8c-71f575de63b0",
   "metadata": {
    "tags": []
   },
   "outputs": [],
   "source": [
    "if main_scale == True:\n",
    "    #main_plot列を標準化\n",
    "    ss = StandardScaler()\n",
    "    merged[main_plot] = ss.fit_transform(merged[main_plot])"
   ]
  },
  {
   "cell_type": "code",
   "execution_count": 22,
   "id": "b47a1d7d-5341-4673-9f1a-7bf50e39165b",
   "metadata": {
    "tags": []
   },
   "outputs": [],
   "source": [
    "#大きくプロットする列を標準化(ロバスト)\n",
    "#rs = RobustScaler()\n",
    "#merged[main_plot] = rs.fit_transform(merged[main_plot])"
   ]
  },
  {
   "cell_type": "markdown",
   "id": "2a49f73f-f3d5-4284-8f4c-1008ad8a1df4",
   "metadata": {},
   "source": [
    "## 描画"
   ]
  },
  {
   "cell_type": "code",
   "execution_count": 27,
   "id": "0e566aab-9c74-4ba7-b459-61f6470ef4d4",
   "metadata": {},
   "outputs": [],
   "source": [
    "#事前に設定するcmap\n",
    "if cmap_list == None:\n",
    "    cmap_list = [\"coolwarm\", \"Set1\", \"flag\", \"Dark2\", \"Set2\", \"tab20\",\n",
    "                 \"Set3\", \"Paired\", \"tab10\", \"tab20b\", \"Pastel2\", \"coolwarm\"]\n",
    "\n",
    "#使用する色とカラムを対応させた辞書を準備\n",
    "cmap_dic = {}\n",
    "for column, color in zip(sub_plot+[\"main\"], cmap_list):\n",
    "    cmap_dic[column] = color"
   ]
  },
  {
   "cell_type": "code",
   "execution_count": 28,
   "id": "a5aae84a-3b8e-4f60-b5e5-5b9e1e260ad0",
   "metadata": {},
   "outputs": [],
   "source": [
    "#右側にプロットしたいカラムを事前に設定する(文字数が長いやつ)\n",
    "right_side_col = [\"Driver mutation\", \"Smoking_history\", \"Norecurrence0\", \"ALIVE0_DEATH1\"]   #user_setting"
   ]
  },
  {
   "cell_type": "code",
   "execution_count": 29,
   "id": "8ce09dfe-f694-43e7-bda0-c3580aad8e03",
   "metadata": {},
   "outputs": [],
   "source": [
    "#add_plotの描画時に使用する変数を作成する\n",
    "#カラムのユニーク数が左右列で同じになるように大きい順に割り振り\n",
    "#差が出た場合はダミーの空間を追加して調整する\n",
    "def add_plot_adjuster(df, columns):\n",
    "\n",
    "    #ユニーク数とカラム名のリスト\n",
    "    uni_list = [[len(df[c].unique()), c] for c in columns]\n",
    "\n",
    "    n_left = 0\n",
    "    n_right = 0\n",
    "    right = []\n",
    "    left = []\n",
    "    #逆順にソートしてn_uniの大きい順に試行(合計値を調整しやすい)\n",
    "    for li in sorted(uni_list)[::-1]:\n",
    "\n",
    "        #right_side_colの指定がある場合\n",
    "        if right_side_col != None:\n",
    "            if li[1] in right_side_col:\n",
    "                n_right += li[0]\n",
    "                right.append([li[0], li[1]])\n",
    "            elif n_left > n_right:\n",
    "                n_right += li[0]\n",
    "                right.append([li[0], li[1]])\n",
    "            else:\n",
    "                n_left += li[0]\n",
    "                left.append([li[0], li[1]])\n",
    "\n",
    "        #right_side_colの指定がない場合\n",
    "        else:\n",
    "            if n_left > n_right:\n",
    "                n_right += li[0]\n",
    "                right.append([li[0], li[1]])\n",
    "            else:\n",
    "                n_left += li[0]\n",
    "                left.append([li[0], li[1]])\n",
    "\n",
    "    #グリッド内で使用する高さの比\n",
    "    left_ratio = [n[0] for n in sorted(left)]\n",
    "    right_ratio = [n[0] for n in sorted(right)]\n",
    "\n",
    "    #左右のunique合計値に差がある場合は、少ない方にダミーの空間を作る\n",
    "    if n_right > n_left: left_ratio.append(n_right - n_left)\n",
    "    elif n_right < n_left: right_ratio.append(n_left - n_right)\n",
    "    \n",
    "    #add_plotのカラム名(描画順)\n",
    "    add_plot = [li[1] for li in sorted(left) + sorted(right)]\n",
    "    \n",
    "    return add_plot, left_ratio, right_ratio"
   ]
  },
  {
   "cell_type": "code",
   "execution_count": 30,
   "id": "4d8efcff-47d1-4e36-8bce-663bb0210d1c",
   "metadata": {},
   "outputs": [],
   "source": [
    "#add_plotの描画時に使用する変数を作成する\n",
    "#カラムのユニーク数が左右列で同じになるように大きい順に割り振り\n",
    "#差が出た場合はダミーの空間を追加して調整する\n",
    "add_plot, left_ratio, right_ratio = add_plot_adjuster(merged, sub_plot)\n",
    "\n",
    "#見やすいようにgridの行数を変数として置く\n",
    "row_left = len(left_ratio)\n",
    "row_right = len(right_ratio)"
   ]
  },
  {
   "cell_type": "code",
   "execution_count": 37,
   "id": "f4f6e416-9a1e-43c7-a46c-9a723beae248",
   "metadata": {},
   "outputs": [],
   "source": [
    "#----------master_gridのパラーメータ設定----------\n",
    "#sub_plotとmain_plotの描画領域の縦の比\n",
    "sub_main_hratio = (3,7)   #user_setting\n",
    "#master_gridの高さ比を調整\n",
    "master_h_ratio = [sub_main_hratio[0] / len(sub_plot) for _ in range(len(sub_plot))] + [sub_main_hratio[1]]\n",
    "#master_gridの横幅比\n",
    "master_w_ratio = (7,3)   #user_setting\n",
    "#master_grid内のスペース\n",
    "master_hspace = 0.05   #user_setting\n",
    "master_wspace = 0.01   #user_setting\n",
    "\n",
    "\n",
    "#----------cbar_gridのパラーメータ設定----------\n",
    "#cbarのサイズを決定する縦横比\n",
    "cbar_h_ratio = (5,5)   #user_setting\n",
    "cbar_w_ratio = (1,9)   #user_setting\n",
    "#z-scoreの右側にspaceを作る\n",
    "cbar_wspace = 0.2   #user_setting\n",
    "\n",
    "\n",
    "#----------cbarのパラーメータ設定----------\n",
    "#cbar右側のfont_size\n",
    "cbar_tick_font_size = 8   #user_setting\n",
    "#cbarのtitle,font_size,上部のspace\n",
    "cbar_title = \"Z_score\"   #user_setting\n",
    "cbar_title_font_size = 8   #user_setting\n",
    "cbar_title_pad = 8   #user_setting\n",
    "#cbarのticks,上下限値,センタリング\n",
    "cbar_kws = {\"ticks\":[-2,-1,0,1,2]}   #user_setting\n",
    "cbar_vmin = -2   #user_setting\n",
    "cbar_vmax = 2   #user_setting\n",
    "cbar_center = 0   #user_setting\n",
    "\n",
    "\n",
    "#----------add_gridのパラーメータ設定----------\n",
    "#add_gird全体の大枠の縦横比\n",
    "#add_gridの上部に空白ができてしまうため負の値を使用\n",
    "add_h_ratio = (-0.25, 10)   #user_setting\n",
    "#左右列の文字数に合わせて調整可能(微妙)\n",
    "add_w_ratio = (1,1)   #user_setting\n",
    "#左右列の中間にspaceを作る\n",
    "add_wspace = 0.0   #user_setting\n",
    "#各add_heatmapの上下にspaceを作る\n",
    "add_hspace = 0.8   #user_setting\n",
    "\n",
    "\n",
    "#----------分割線(vlines)のパラーメータ設定----------\n",
    "#分割線(vlines)の位置\n",
    "line_x = merged.value_counts(cluster_col).values[0]\n",
    "line_max = merged[main_plot].shape[1]\n",
    "vlines_width = 0.8   #user_setting\n",
    "vlines_color = \"white\"   #user_setting\n",
    "\n",
    "\n",
    "#----------sub_plot横のテキストのパラメータ設定----------\n",
    "sub_text_x = 0   #user_setting\n",
    "sub_text_y = 0.1   #user_setting\n",
    "sub_text_font_size = 12   #user_setting\n",
    "\n",
    "\n",
    "#----------add_plotのパラメータ設定----------\n",
    "#add_plotのtitleのfont_size, 上部のspace\n",
    "add_title_font_size = 8   #user_setting\n",
    "add_title_pad = 3.5   #user_setting\n",
    "#add_plotの右側のラベルの角度,font_size,space\n",
    "add_tick_rotate = 0   #user_setting\n",
    "add_tick_font_size = 7   #user_setting\n",
    "add_tick_pad = 0   #user_setting\n",
    "\n",
    "\n",
    "#----------figureの設定----------\n",
    "#描画領域のサイズ\n",
    "figsize = (8, 8)   #user_setting\n",
    "#出力サイズ\n",
    "dpi = 100   #user_setting\n",
    "#出力先のpath\n",
    "output_dir = \"./\"   #user_setting\n",
    "fig_format = \"png\"   #user_setting\n",
    "fig_name = \"sample\"   #user_setting\n",
    "figname = Path(output_dir).joinpath(f\"{fig_name}.{fig_format}\")"
   ]
  },
  {
   "cell_type": "code",
   "execution_count": 36,
   "id": "b6c935fb-18b1-4347-a967-404433a155af",
   "metadata": {},
   "outputs": [
    {
     "data": {
      "image/png": "[encoded data removed]",
      "text/plain": [
       "<Figure size 800x800 with 35 Axes>"
      ]
     },
     "metadata": {},
     "output_type": "display_data"
    }
   ],
   "source": [
    "figure = plt.figure(figsize=figsize)\n",
    "\n",
    "#--------------------------------gridspecの作成--------------------------------\n",
    "#master_grid\n",
    "gs_master = GridSpec(nrows=len(sub_plot)+1, ncols=2, height_ratios=master_h_ratio, width_ratios=master_w_ratio, hspace=master_hspace, wspace=master_wspace)\n",
    "\n",
    "#cbar_grid\n",
    "gs_cbar = GridSpecFromSubplotSpec(2, 2, subplot_spec=gs_master[-1,1], width_ratios=cbar_w_ratio, height_ratios=cbar_h_ratio, wspace=cbar_wspace)\n",
    "\n",
    "#add_grid\n",
    "gs_add = GridSpecFromSubplotSpec(2, 2, subplot_spec=gs_cbar[:,1], height_ratios=add_h_ratio, width_ratios=add_w_ratio, wspace=add_wspace)\n",
    "gs_left = GridSpecFromSubplotSpec(row_left, 1, subplot_spec=gs_add[1,0], hspace=add_hspace, height_ratios=left_ratio)\n",
    "gs_right = GridSpecFromSubplotSpec(row_right, 1, subplot_spec=gs_add[1,1], hspace=add_hspace, height_ratios=right_ratio)\n",
    "\n",
    "#--------------------------------サブプロットのheatmap--------------------------------\n",
    "for i, c in enumerate(sub_plot):\n",
    "    \n",
    "    #heatmapの描画領域\n",
    "    ax_s = figure.add_subplot(gs_master[i,0])\n",
    "    #クラスタの分割点でラインを引く\n",
    "    plt.vlines(x=line_x, ymin=0, ymax=line_max, colors=vlines_color, linewidth=vlines_width)\n",
    "    \n",
    "    #heatmapの描画\n",
    "    mask = sub_mask[c] #欠損データフレームのマスク\n",
    "    data = merged[c].values.reshape(-1,1)\n",
    "    sns.heatmap(data=data.T, ax=ax_s, cbar=False, cmap=cmap_dic[c], mask=mask.T)\n",
    "    ax_s.axis(\"off\")\n",
    "\n",
    "    #サブプロット横のテキスト\n",
    "    ax_t = figure.add_subplot(gs_master[i,1])\n",
    "    ax_t.text(x=sub_text_x, y=sub_text_y, s=c, size=sub_text_font_size)\n",
    "    ax_t.axis(\"off\")\n",
    "\n",
    "    \n",
    "#--------------------------------メインプロットのheatmap--------------------------------\n",
    "#heatmapの描画領域\n",
    "ax_m = figure.add_subplot(gs_master[-1,0])\n",
    "#クラスタの分割点でラインを引く\n",
    "plt.vlines(x=line_x, ymin=0, ymax=line_max, colors=vlines_color, linewidth=vlines_width)\n",
    "\n",
    "#カラーバーの設定\n",
    "ax_c = figure.add_subplot(gs_cbar[1,0])\n",
    "ax_c.tick_params(labelsize=cbar_tick_font_size, right=False)\n",
    "ax_c.set_title(cbar_title, loc=\"left\", size=cbar_title_font_size, y=1.0, pad=cbar_title_pad)\n",
    "\n",
    "#heatmapの描画\n",
    "data = merged.loc[:, main_plot]\n",
    "sns.heatmap(data=data.T, ax=ax_m, cbar_ax=ax_c, cmap=cmap_dic[\"main\"], cbar_kws=cbar_kws, vmin=cbar_vmin, vmax=cbar_vmax, center=cbar_center)\n",
    "ax_m.axis(\"off\")\n",
    "\n",
    "\n",
    "#--------------------------------\"add_plot\"のheatmap--------------------------------\n",
    "#見やすいように順番を入れ替えてるので別for文で描画\n",
    "for i, c in enumerate(add_plot):\n",
    "    \n",
    "    #各列内の対応する描画領域\n",
    "    if i+1 <= row_left: ax_a = figure.add_subplot(gs_left[i])\n",
    "    else: ax_a = figure.add_subplot(gs_right[i-row_left])\n",
    "    \n",
    "    #描画するユニークデータ\n",
    "    uni = merged[c].unique()\n",
    "    #label_encodeされていたカラムはinverse\n",
    "    if c in le_dic.keys(): yticks = le_dic[c].inverse_transform(uni)\n",
    "    else: yticks = [u for u in uni]\n",
    "    #heatmapの描画\n",
    "    sns.heatmap(uni.reshape(-1,1), cbar=False, ax=ax_a, square=True, cmap=cmap_dic[c], xticklabels=False, yticklabels=yticks)\n",
    "    ax_a.set_title(c, size=add_title_font_size, loc='left', y=1.0, pad=add_title_pad)\n",
    "    ax_a.yaxis.tick_right()\n",
    "    ax_a.tick_params(axis='y', labelrotation=add_tick_rotate, labelsize=add_tick_font_size, right=False, pad=add_tick_pad)\n",
    "\n",
    "\n",
    "plt.savefig(figname, pad_inches=0, dpi=dpi)\n",
    "plt.show()"
   ]
  },
  {
   "cell_type": "code",
   "execution_count": null,
   "id": "63775366-9b3e-4fcc-84ac-ce43a4d4c231",
   "metadata": {},
   "outputs": [],
   "source": []
  },
  {
   "cell_type": "code",
   "execution_count": null,
   "id": "0190ff53-6d0f-48d5-9b5f-098608518e5e",
   "metadata": {},
   "outputs": [],
   "source": []
  },
  {
   "cell_type": "code",
   "execution_count": null,
   "id": "5f01e543-59ba-4954-a713-ccd5b388219f",
   "metadata": {},
   "outputs": [],
   "source": []
  }
 ],
 "metadata": {
  "kernelspec": {
   "display_name": "Python 3 (ipykernel)",
   "language": "python",
   "name": "python3"
  },
  "language_info": {
   "codemirror_mode": {
    "name": "ipython",
    "version": 3
   },
   "file_extension": ".py",
   "mimetype": "text/x-python",
   "name": "python",
   "nbconvert_exporter": "python",
   "pygments_lexer": "ipython3",
   "version": "3.10.8"
  }
 },
 "nbformat": 4,
 "nbformat_minor": 5
}
